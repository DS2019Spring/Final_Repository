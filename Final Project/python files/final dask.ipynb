{
 "cells": [
  {
   "cell_type": "code",
   "execution_count": 11,
   "metadata": {},
   "outputs": [],
   "source": [
    "import dask\n",
    "import dask.dataframe as dd\n",
    "import dask.array as da\n",
    "from dask.delayed import delayed\n",
    "import numpy as np\n",
    "import pandas as pd\n",
    "from dask.threaded import get\n",
    "from sklearn.preprocessing import LabelEncoder\n",
    "from sklearn.metrics import confusion_matrix \n",
    "from sklearn.model_selection import train_test_split\n",
    "from sklearn.svm import SVC\n",
    "import pickle"
   ]
  },
  {
   "cell_type": "code",
   "execution_count": 12,
   "metadata": {},
   "outputs": [],
   "source": [
    "def readProcessData(filename):\n",
    "    file_data = pd.read_csv(\"dataset_final.csv\")\n",
    "    file_data = file_data.drop([\"user_id\",\"max_rating\"],axis=1)\n",
    "    file_data = file_data.drop([\"country\"],axis=1)\n",
    "    file_data = file_data.drop([\"problem_id\"],axis=1)\n",
    "    enc = LabelEncoder()\n",
    "    enc.fit(file_data['level_type'])\n",
    "    file_data['level_type'] = enc.transform(file_data['level_type'])\n",
    "    enc.fit(file_data['rank'])\n",
    "    file_data['rank'] = enc.transform(file_data['rank'])\n",
    "    df = file_data\n",
    "    df_attempt = df[\"attempts_range\"]\n",
    "    df = df.drop(\"attempts_range\",axis=1)\n",
    "    df.insert(0,\"attempts_range\",df_attempt)\n",
    "    return df"
   ]
  },
  {
   "cell_type": "code",
   "execution_count": 13,
   "metadata": {},
   "outputs": [],
   "source": [
    "def trainAndTestModel(df):\n",
    "    X = df.iloc[:,1:]\n",
    "    y = df.iloc[:,:1]\n",
    "    X_train, X_test, y_train, y_test = train_test_split(X, y, random_state = 0)\n",
    "    model = SVC()\n",
    "    model.fit(X_train,y_train)\n",
    "    model.score(X_test,y_test)\n",
    "    return model"
   ]
  },
  {
   "cell_type": "code",
   "execution_count": 14,
   "metadata": {},
   "outputs": [],
   "source": [
    "def saveModel(model):\n",
    "    pkl_filename = \"pickle_model.pkl\"\n",
    "    with open(pkl_filename, 'wb') as file:\n",
    "        pickle.dump(model, file)\n",
    "    with open(pkl_filename, 'rb') as file:\n",
    "        pickle_model = pickle.load(file)\n",
    "    "
   ]
  },
  {
   "cell_type": "code",
   "execution_count": 15,
   "metadata": {},
   "outputs": [],
   "source": [
    "dsk = {'readProcessData' : (readProcessData,'dataset_final.csv'),\n",
    "       'trainAndTestModel' : (trainAndTestModel,'readProcessData'),\n",
    "       'saveModel' : (saveModel,'trainAndTestModel')\n",
    "      }"
   ]
  },
  {
   "cell_type": "code",
   "execution_count": null,
   "metadata": {},
   "outputs": [],
   "source": [
    "get(dsk,['readProcessData','trainAndTestModel','saveModel'])"
   ]
  },
  {
   "cell_type": "code",
   "execution_count": null,
   "metadata": {},
   "outputs": [],
   "source": []
  }
 ],
 "metadata": {
  "kernelspec": {
   "display_name": "Python 3",
   "language": "python",
   "name": "python3"
  },
  "language_info": {
   "codemirror_mode": {
    "name": "ipython",
    "version": 3
   },
   "file_extension": ".py",
   "mimetype": "text/x-python",
   "name": "python",
   "nbconvert_exporter": "python",
   "pygments_lexer": "ipython3",
   "version": "3.7.1"
  }
 },
 "nbformat": 4,
 "nbformat_minor": 2
}
