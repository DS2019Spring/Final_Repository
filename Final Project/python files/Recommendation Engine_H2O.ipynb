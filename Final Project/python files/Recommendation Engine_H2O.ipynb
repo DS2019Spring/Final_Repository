{
 "cells": [
  {
   "cell_type": "code",
   "execution_count": 1,
   "metadata": {},
   "outputs": [],
   "source": [
    "import h2o\n",
    "from h2o.automl import H2OAutoML\n",
    "import pandas as pd\n",
    "from sklearn.preprocessing import LabelEncoder"
   ]
  },
  {
   "cell_type": "code",
   "execution_count": 2,
   "metadata": {},
   "outputs": [],
   "source": [
    "dataset = pd.read_csv(\"DataSetNormalized.csv\")"
   ]
  },
  {
   "cell_type": "code",
   "execution_count": 3,
   "metadata": {},
   "outputs": [
    {
     "data": {
      "text/html": [
       "<div>\n",
       "<style scoped>\n",
       "    .dataframe tbody tr th:only-of-type {\n",
       "        vertical-align: middle;\n",
       "    }\n",
       "\n",
       "    .dataframe tbody tr th {\n",
       "        vertical-align: top;\n",
       "    }\n",
       "\n",
       "    .dataframe thead th {\n",
       "        text-align: right;\n",
       "    }\n",
       "</style>\n",
       "<table border=\"1\" class=\"dataframe\">\n",
       "  <thead>\n",
       "    <tr style=\"text-align: right;\">\n",
       "      <th></th>\n",
       "      <th>user_id</th>\n",
       "      <th>problem_id</th>\n",
       "      <th>level_type</th>\n",
       "      <th>attempts_range</th>\n",
       "      <th>submission_count</th>\n",
       "      <th>problem_solved</th>\n",
       "      <th>contribution</th>\n",
       "      <th>country</th>\n",
       "      <th>follower_count</th>\n",
       "      <th>max_rating</th>\n",
       "      <th>rating</th>\n",
       "      <th>rank</th>\n",
       "    </tr>\n",
       "  </thead>\n",
       "  <tbody>\n",
       "    <tr>\n",
       "      <th>0</th>\n",
       "      <td>user_1</td>\n",
       "      <td>prob_918</td>\n",
       "      <td>E</td>\n",
       "      <td>3</td>\n",
       "      <td>84</td>\n",
       "      <td>73</td>\n",
       "      <td>10</td>\n",
       "      <td>Bangladesh</td>\n",
       "      <td>120</td>\n",
       "      <td>502.007</td>\n",
       "      <td>499.713</td>\n",
       "      <td>advanced</td>\n",
       "    </tr>\n",
       "    <tr>\n",
       "      <th>1</th>\n",
       "      <td>user_1</td>\n",
       "      <td>prob_2990</td>\n",
       "      <td>F</td>\n",
       "      <td>3</td>\n",
       "      <td>84</td>\n",
       "      <td>73</td>\n",
       "      <td>10</td>\n",
       "      <td>Bangladesh</td>\n",
       "      <td>120</td>\n",
       "      <td>502.007</td>\n",
       "      <td>499.713</td>\n",
       "      <td>advanced</td>\n",
       "    </tr>\n",
       "    <tr>\n",
       "      <th>2</th>\n",
       "      <td>user_1</td>\n",
       "      <td>prob_1358</td>\n",
       "      <td>D</td>\n",
       "      <td>1</td>\n",
       "      <td>84</td>\n",
       "      <td>73</td>\n",
       "      <td>10</td>\n",
       "      <td>Bangladesh</td>\n",
       "      <td>120</td>\n",
       "      <td>502.007</td>\n",
       "      <td>499.713</td>\n",
       "      <td>advanced</td>\n",
       "    </tr>\n",
       "    <tr>\n",
       "      <th>3</th>\n",
       "      <td>user_1</td>\n",
       "      <td>prob_4278</td>\n",
       "      <td>A</td>\n",
       "      <td>2</td>\n",
       "      <td>84</td>\n",
       "      <td>73</td>\n",
       "      <td>10</td>\n",
       "      <td>Bangladesh</td>\n",
       "      <td>120</td>\n",
       "      <td>502.007</td>\n",
       "      <td>499.713</td>\n",
       "      <td>advanced</td>\n",
       "    </tr>\n",
       "    <tr>\n",
       "      <th>4</th>\n",
       "      <td>user_1</td>\n",
       "      <td>prob_1868</td>\n",
       "      <td>A</td>\n",
       "      <td>1</td>\n",
       "      <td>84</td>\n",
       "      <td>73</td>\n",
       "      <td>10</td>\n",
       "      <td>Bangladesh</td>\n",
       "      <td>120</td>\n",
       "      <td>502.007</td>\n",
       "      <td>499.713</td>\n",
       "      <td>advanced</td>\n",
       "    </tr>\n",
       "  </tbody>\n",
       "</table>\n",
       "</div>"
      ],
      "text/plain": [
       "  user_id problem_id level_type  attempts_range  submission_count  \\\n",
       "0  user_1   prob_918          E               3                84   \n",
       "1  user_1  prob_2990          F               3                84   \n",
       "2  user_1  prob_1358          D               1                84   \n",
       "3  user_1  prob_4278          A               2                84   \n",
       "4  user_1  prob_1868          A               1                84   \n",
       "\n",
       "   problem_solved  contribution     country  follower_count  max_rating  \\\n",
       "0              73            10  Bangladesh             120     502.007   \n",
       "1              73            10  Bangladesh             120     502.007   \n",
       "2              73            10  Bangladesh             120     502.007   \n",
       "3              73            10  Bangladesh             120     502.007   \n",
       "4              73            10  Bangladesh             120     502.007   \n",
       "\n",
       "    rating      rank  \n",
       "0  499.713  advanced  \n",
       "1  499.713  advanced  \n",
       "2  499.713  advanced  \n",
       "3  499.713  advanced  \n",
       "4  499.713  advanced  "
      ]
     },
     "execution_count": 3,
     "metadata": {},
     "output_type": "execute_result"
    }
   ],
   "source": [
    "dataset.head()"
   ]
  },
  {
   "cell_type": "code",
   "execution_count": 45,
   "metadata": {},
   "outputs": [],
   "source": [
    "dataset = dataset.drop(['user_id','problem_id','country'],axis=1)\n"
   ]
  },
  {
   "cell_type": "code",
   "execution_count": 46,
   "metadata": {},
   "outputs": [],
   "source": [
    "enc = LabelEncoder()\n",
    "enc.fit(dataset['level_type'])\n",
    "dataset['level_type'] = enc.transform(dataset['level_type'])"
   ]
  },
  {
   "cell_type": "code",
   "execution_count": 47,
   "metadata": {},
   "outputs": [],
   "source": [
    "enc = LabelEncoder()\n",
    "enc.fit(dataset['rank'])\n",
    "dataset['rank'] = enc.transform(dataset['rank'])"
   ]
  },
  {
   "cell_type": "code",
   "execution_count": 7,
   "metadata": {},
   "outputs": [
    {
     "name": "stdout",
     "output_type": "stream",
     "text": [
      "Checking whether there is an H2O instance running at http://localhost:54321..... not found.\n",
      "Attempting to start a local H2O server...\n",
      "; OpenJDK 64-Bit Server VM (Zulu 8.20.0.5-win64) (build 25.121-b15, mixed mode)\n",
      "  Starting server from C:\\Users\\sutha\\Anaconda3\\h2o_jar\\h2o.jar\n",
      "  Ice root: C:\\Users\\sutha\\AppData\\Local\\Temp\\tmp6jtygrdf\n",
      "  JVM stdout: C:\\Users\\sutha\\AppData\\Local\\Temp\\tmp6jtygrdf\\h2o_Dhaval_started_from_python.out\n",
      "  JVM stderr: C:\\Users\\sutha\\AppData\\Local\\Temp\\tmp6jtygrdf\\h2o_Dhaval_started_from_python.err\n",
      "  Server is running at http://127.0.0.1:54321\n",
      "Connecting to H2O server at http://127.0.0.1:54321... successful.\n",
      "Warning: Your H2O cluster version is too old (1 year, 1 month and 17 days)! Please download and install the latest version from http://h2o.ai/download/\n"
     ]
    },
    {
     "data": {
      "text/html": [
       "<div style=\"overflow:auto\"><table style=\"width:50%\"><tr><td>H2O cluster uptime:</td>\n",
       "<td>02 secs</td></tr>\n",
       "<tr><td>H2O cluster timezone:</td>\n",
       "<td>-05:00</td></tr>\n",
       "<tr><td>H2O data parsing timezone:</td>\n",
       "<td>UTC</td></tr>\n",
       "<tr><td>H2O cluster version:</td>\n",
       "<td>3.18.0.2</td></tr>\n",
       "<tr><td>H2O cluster version age:</td>\n",
       "<td>1 year, 1 month and 17 days !!!</td></tr>\n",
       "<tr><td>H2O cluster name:</td>\n",
       "<td>H2O_from_python_Dhaval_kmyfo3</td></tr>\n",
       "<tr><td>H2O cluster total nodes:</td>\n",
       "<td>1</td></tr>\n",
       "<tr><td>H2O cluster free memory:</td>\n",
       "<td>3.530 Gb</td></tr>\n",
       "<tr><td>H2O cluster total cores:</td>\n",
       "<td>8</td></tr>\n",
       "<tr><td>H2O cluster allowed cores:</td>\n",
       "<td>8</td></tr>\n",
       "<tr><td>H2O cluster status:</td>\n",
       "<td>accepting new members, healthy</td></tr>\n",
       "<tr><td>H2O connection url:</td>\n",
       "<td>http://127.0.0.1:54321</td></tr>\n",
       "<tr><td>H2O connection proxy:</td>\n",
       "<td>None</td></tr>\n",
       "<tr><td>H2O internal security:</td>\n",
       "<td>False</td></tr>\n",
       "<tr><td>H2O API Extensions:</td>\n",
       "<td>Algos, AutoML, Core V3, Core V4</td></tr>\n",
       "<tr><td>Python version:</td>\n",
       "<td>3.6.8 final</td></tr></table></div>"
      ],
      "text/plain": [
       "--------------------------  -------------------------------\n",
       "H2O cluster uptime:         02 secs\n",
       "H2O cluster timezone:       -05:00\n",
       "H2O data parsing timezone:  UTC\n",
       "H2O cluster version:        3.18.0.2\n",
       "H2O cluster version age:    1 year, 1 month and 17 days !!!\n",
       "H2O cluster name:           H2O_from_python_Dhaval_kmyfo3\n",
       "H2O cluster total nodes:    1\n",
       "H2O cluster free memory:    3.530 Gb\n",
       "H2O cluster total cores:    8\n",
       "H2O cluster allowed cores:  8\n",
       "H2O cluster status:         accepting new members, healthy\n",
       "H2O connection url:         http://127.0.0.1:54321\n",
       "H2O connection proxy:\n",
       "H2O internal security:      False\n",
       "H2O API Extensions:         Algos, AutoML, Core V3, Core V4\n",
       "Python version:             3.6.8 final\n",
       "--------------------------  -------------------------------"
      ]
     },
     "metadata": {},
     "output_type": "display_data"
    }
   ],
   "source": [
    "h2o.init()"
   ]
  },
  {
   "cell_type": "code",
   "execution_count": 26,
   "metadata": {},
   "outputs": [
    {
     "name": "stderr",
     "output_type": "stream",
     "text": [
      "C:\\Users\\sutha\\Anaconda3\\lib\\site-packages\\h2o\\utils\\shared_utils.py:170: FutureWarning: Method .as_matrix will be removed in a future version. Use .values instead.\n",
      "  data = _handle_python_lists(python_obj.as_matrix().tolist(), -1)[1]\n"
     ]
    },
    {
     "name": "stdout",
     "output_type": "stream",
     "text": [
      "Parse progress: |█████████████████████████████████████████████████████████| 100%\n"
     ]
    }
   ],
   "source": [
    "df = h2o.H2OFrame(dataset)"
   ]
  },
  {
   "cell_type": "code",
   "execution_count": 9,
   "metadata": {},
   "outputs": [],
   "source": [
    "df['attempts_range'] = df['attempts_range'].asfactor()"
   ]
  },
  {
   "cell_type": "code",
   "execution_count": 10,
   "metadata": {},
   "outputs": [],
   "source": [
    "splits = df.split_frame(ratios=[0.7,0.15],seed=1)"
   ]
  },
  {
   "cell_type": "code",
   "execution_count": 11,
   "metadata": {},
   "outputs": [],
   "source": [
    "train = splits[0]\n",
    "valid = splits[1]\n",
    "test = splits[2]"
   ]
  },
  {
   "cell_type": "code",
   "execution_count": 12,
   "metadata": {},
   "outputs": [],
   "source": [
    "x = train.columns\n",
    "y = 'attempts_range'\n",
    "\n",
    "x.remove(y)"
   ]
  },
  {
   "cell_type": "code",
   "execution_count": 13,
   "metadata": {},
   "outputs": [],
   "source": [
    "aml1 = H2OAutoML(max_runtime_secs=300, exclude_algos=['DeepLearning'])"
   ]
  },
  {
   "cell_type": "code",
   "execution_count": 14,
   "metadata": {},
   "outputs": [
    {
     "name": "stdout",
     "output_type": "stream",
     "text": [
      "AutoML progress: |████████████████████████████████████████████████████████| 100%\n",
      "Parse progress: |█████████████████████████████████████████████████████████| 100%\n"
     ]
    }
   ],
   "source": [
    "aml1.train(x=x,y=y,training_frame=train,leaderboard_frame=test,validation_frame=valid)"
   ]
  },
  {
   "cell_type": "code",
   "execution_count": 15,
   "metadata": {},
   "outputs": [
    {
     "data": {
      "text/html": [
       "<table>\n",
       "<thead>\n",
       "<tr><th>model_id                                             </th><th style=\"text-align: right;\">  mean_per_class_error</th></tr>\n",
       "</thead>\n",
       "<tbody>\n",
       "<tr><td>StackedEnsemble_AllModels_0_AutoML_20190426_055119   </td><td style=\"text-align: right;\">              0.500777</td></tr>\n",
       "<tr><td>StackedEnsemble_BestOfFamily_0_AutoML_20190426_055119</td><td style=\"text-align: right;\">              0.500777</td></tr>\n",
       "<tr><td>XRT_0_AutoML_20190426_055119                         </td><td style=\"text-align: right;\">              0.504776</td></tr>\n",
       "<tr><td>DRF_0_AutoML_20190426_055119                         </td><td style=\"text-align: right;\">              0.508662</td></tr>\n",
       "<tr><td>GLM_grid_0_AutoML_20190426_055119_model_0            </td><td style=\"text-align: right;\">              0.583283</td></tr>\n",
       "</tbody>\n",
       "</table>"
      ]
     },
     "metadata": {},
     "output_type": "display_data"
    },
    {
     "data": {
      "text/plain": []
     },
     "execution_count": 15,
     "metadata": {},
     "output_type": "execute_result"
    }
   ],
   "source": [
    "aml1.leaderboard"
   ]
  },
  {
   "cell_type": "code",
   "execution_count": 44,
   "metadata": {},
   "outputs": [],
   "source": [
    "dataset = pd.read_csv(\"dataset_final.csv\")"
   ]
  },
  {
   "cell_type": "code",
   "execution_count": 48,
   "metadata": {},
   "outputs": [],
   "source": [
    "df=dataset"
   ]
  },
  {
   "cell_type": "code",
   "execution_count": 49,
   "metadata": {},
   "outputs": [],
   "source": [
    "df_attempt = df[\"attempts_range\"]\n",
    "df = df.drop(\"attempts_range\",axis=1)\n",
    "df.insert(0,\"attempts_range\",df_attempt)"
   ]
  },
  {
   "cell_type": "code",
   "execution_count": 50,
   "metadata": {},
   "outputs": [],
   "source": [
    "X = df.iloc[:,1:]\n",
    "y = df.iloc[:,:1]"
   ]
  },
  {
   "cell_type": "code",
   "execution_count": 51,
   "metadata": {},
   "outputs": [],
   "source": [
    "test = X[101:102]"
   ]
  },
  {
   "cell_type": "code",
   "execution_count": 52,
   "metadata": {},
   "outputs": [
    {
     "name": "stdout",
     "output_type": "stream",
     "text": [
      "Parse progress: |█████████████████████████████████████████████████████████| 100%\n"
     ]
    }
   ],
   "source": [
    "test = h2o.H2OFrame(test)"
   ]
  },
  {
   "cell_type": "code",
   "execution_count": 53,
   "metadata": {},
   "outputs": [
    {
     "data": {
      "text/html": [
       "<div>\n",
       "<style scoped>\n",
       "    .dataframe tbody tr th:only-of-type {\n",
       "        vertical-align: middle;\n",
       "    }\n",
       "\n",
       "    .dataframe tbody tr th {\n",
       "        vertical-align: top;\n",
       "    }\n",
       "\n",
       "    .dataframe thead th {\n",
       "        text-align: right;\n",
       "    }\n",
       "</style>\n",
       "<table border=\"1\" class=\"dataframe\">\n",
       "  <thead>\n",
       "    <tr style=\"text-align: right;\">\n",
       "      <th></th>\n",
       "      <th>attempts_range</th>\n",
       "    </tr>\n",
       "  </thead>\n",
       "  <tbody>\n",
       "    <tr>\n",
       "      <th>101</th>\n",
       "      <td>2</td>\n",
       "    </tr>\n",
       "  </tbody>\n",
       "</table>\n",
       "</div>"
      ],
      "text/plain": [
       "     attempts_range\n",
       "101               2"
      ]
     },
     "execution_count": 53,
     "metadata": {},
     "output_type": "execute_result"
    }
   ],
   "source": [
    "y[101:102]"
   ]
  },
  {
   "cell_type": "code",
   "execution_count": 54,
   "metadata": {},
   "outputs": [
    {
     "name": "stdout",
     "output_type": "stream",
     "text": [
      "Parse progress: |█████████████████████████████████████████████████████████| 100%\n",
      "stackedensemble prediction progress: |████████████████████████████████████| 100%\n"
     ]
    },
    {
     "data": {
      "text/html": [
       "<table>\n",
       "<thead>\n",
       "<tr><th style=\"text-align: right;\">  predict</th><th style=\"text-align: right;\">         p1</th><th style=\"text-align: right;\">         p2</th><th style=\"text-align: right;\">      p3</th><th style=\"text-align: right;\">      p4</th><th style=\"text-align: right;\">         p5</th><th style=\"text-align: right;\">         p6</th></tr>\n",
       "</thead>\n",
       "<tbody>\n",
       "<tr><td style=\"text-align: right;\">        3</td><td style=\"text-align: right;\">0.000129075</td><td style=\"text-align: right;\">0.000153845</td><td style=\"text-align: right;\">0.500693</td><td style=\"text-align: right;\">0.498836</td><td style=\"text-align: right;\">9.82969e-05</td><td style=\"text-align: right;\">8.99747e-05</td></tr>\n",
       "</tbody>\n",
       "</table>"
      ]
     },
     "metadata": {},
     "output_type": "display_data"
    },
    {
     "data": {
      "text/plain": []
     },
     "execution_count": 54,
     "metadata": {},
     "output_type": "execute_result"
    }
   ],
   "source": [
    "aml1.predict(test)"
   ]
  },
  {
   "cell_type": "code",
   "execution_count": null,
   "metadata": {},
   "outputs": [],
   "source": []
  }
 ],
 "metadata": {
  "kernelspec": {
   "display_name": "Python 3",
   "language": "python",
   "name": "python3"
  },
  "language_info": {
   "codemirror_mode": {
    "name": "ipython",
    "version": 3
   },
   "file_extension": ".py",
   "mimetype": "text/x-python",
   "name": "python",
   "nbconvert_exporter": "python",
   "pygments_lexer": "ipython3",
   "version": "3.6.8"
  }
 },
 "nbformat": 4,
 "nbformat_minor": 2
}
