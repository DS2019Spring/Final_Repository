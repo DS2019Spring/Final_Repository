{
 "cells": [
  {
   "cell_type": "code",
   "execution_count": 1,
   "metadata": {},
   "outputs": [],
   "source": [
    "import h2o\n",
    "from h2o.automl import H2OAutoML"
   ]
  },
  {
   "cell_type": "code",
   "execution_count": 2,
   "metadata": {},
   "outputs": [
    {
     "name": "stdout",
     "output_type": "stream",
     "text": [
      "Checking whether there is an H2O instance running at http://localhost:54321. connected.\n",
      "Warning: Your H2O cluster version is too old (1 year and 13 days)! Please download and install the latest version from http://h2o.ai/download/\n"
     ]
    },
    {
     "data": {
      "text/html": [
       "<div style=\"overflow:auto\"><table style=\"width:50%\"><tr><td>H2O cluster uptime:</td>\n",
       "<td>19 hours 56 mins</td></tr>\n",
       "<tr><td>H2O cluster timezone:</td>\n",
       "<td>-05:00</td></tr>\n",
       "<tr><td>H2O data parsing timezone:</td>\n",
       "<td>UTC</td></tr>\n",
       "<tr><td>H2O cluster version:</td>\n",
       "<td>3.18.0.2</td></tr>\n",
       "<tr><td>H2O cluster version age:</td>\n",
       "<td>1 year and 13 days !!!</td></tr>\n",
       "<tr><td>H2O cluster name:</td>\n",
       "<td>H2O_from_python_Dhaval_2rt66t</td></tr>\n",
       "<tr><td>H2O cluster total nodes:</td>\n",
       "<td>1</td></tr>\n",
       "<tr><td>H2O cluster free memory:</td>\n",
       "<td>3.065 Gb</td></tr>\n",
       "<tr><td>H2O cluster total cores:</td>\n",
       "<td>8</td></tr>\n",
       "<tr><td>H2O cluster allowed cores:</td>\n",
       "<td>8</td></tr>\n",
       "<tr><td>H2O cluster status:</td>\n",
       "<td>locked, healthy</td></tr>\n",
       "<tr><td>H2O connection url:</td>\n",
       "<td>http://localhost:54321</td></tr>\n",
       "<tr><td>H2O connection proxy:</td>\n",
       "<td>None</td></tr>\n",
       "<tr><td>H2O internal security:</td>\n",
       "<td>False</td></tr>\n",
       "<tr><td>H2O API Extensions:</td>\n",
       "<td>Algos, AutoML, Core V3, Core V4</td></tr>\n",
       "<tr><td>Python version:</td>\n",
       "<td>3.6.8 final</td></tr></table></div>"
      ],
      "text/plain": [
       "--------------------------  -------------------------------\n",
       "H2O cluster uptime:         19 hours 56 mins\n",
       "H2O cluster timezone:       -05:00\n",
       "H2O data parsing timezone:  UTC\n",
       "H2O cluster version:        3.18.0.2\n",
       "H2O cluster version age:    1 year and 13 days !!!\n",
       "H2O cluster name:           H2O_from_python_Dhaval_2rt66t\n",
       "H2O cluster total nodes:    1\n",
       "H2O cluster free memory:    3.065 Gb\n",
       "H2O cluster total cores:    8\n",
       "H2O cluster allowed cores:  8\n",
       "H2O cluster status:         locked, healthy\n",
       "H2O connection url:         http://localhost:54321\n",
       "H2O connection proxy:\n",
       "H2O internal security:      False\n",
       "H2O API Extensions:         Algos, AutoML, Core V3, Core V4\n",
       "Python version:             3.6.8 final\n",
       "--------------------------  -------------------------------"
      ]
     },
     "metadata": {},
     "output_type": "display_data"
    }
   ],
   "source": [
    "h2o.init()"
   ]
  },
  {
   "cell_type": "code",
   "execution_count": 3,
   "metadata": {},
   "outputs": [
    {
     "name": "stdout",
     "output_type": "stream",
     "text": [
      "Parse progress: |█████████████████████████████████████████████████████████| 100%\n"
     ]
    }
   ],
   "source": [
    "Lending_data = h2o.import_file(\"Clean_Dataset.csv\")"
   ]
  },
  {
   "cell_type": "code",
   "execution_count": 4,
   "metadata": {},
   "outputs": [
    {
     "name": "stdout",
     "output_type": "stream",
     "text": [
      "Rows:887379\n",
      "Cols:48\n",
      "\n",
      "\n"
     ]
    },
    {
     "data": {
      "text/html": [
       "<table>\n",
       "<thead>\n",
       "<tr><th>       </th><th>C1               </th><th>id                </th><th>loan_amnt         </th><th>funded_amnt      </th><th>funded_amnt_inv   </th><th>term              </th><th>int_rate          </th><th>installment       </th><th>grade  </th><th>sub_grade  </th><th>emp_title                </th><th>emp_length  </th><th>home_ownership  </th><th>annual_inc       </th><th>verification_status  </th><th>issue_d            </th><th>loan_status  </th><th>pymnt_plan  </th><th>url                                                                 </th><th>purpose           </th><th>title                                </th><th>zip_code  </th><th>addr_state  </th><th>dti               </th><th>revol_bal        </th><th>revol_util        </th><th>total_acc         </th><th>initial_list_status  </th><th>out_prncp        </th><th>out_prncp_inv    </th><th>total_pymnt      </th><th>total_pymnt_inv  </th><th>total_rec_prncp   </th><th>total_rec_int     </th><th>total_rec_late_fee  </th><th>recoveries        </th><th>collection_recovery_fee  </th><th>last_pymnt_d       </th><th>last_pymnt_amnt  </th><th>next_pymnt_d       </th><th>last_credit_pull_d  </th><th>collections_12_mths_ex_med  </th><th>policy_code  </th><th>application_type  </th><th>acc_now_delinq      </th><th>tot_coll_amt      </th><th>tot_cur_bal       </th><th>total_rev_hi_lim  </th></tr>\n",
       "</thead>\n",
       "<tbody>\n",
       "<tr><td>type   </td><td>int              </td><td>int               </td><td>int               </td><td>int              </td><td>real              </td><td>int               </td><td>real              </td><td>real              </td><td>enum   </td><td>enum       </td><td>enum                     </td><td>enum        </td><td>enum            </td><td>real             </td><td>enum                 </td><td>time               </td><td>enum         </td><td>enum        </td><td>string                                                              </td><td>enum              </td><td>enum                                 </td><td>enum      </td><td>enum        </td><td>real              </td><td>int              </td><td>real              </td><td>int               </td><td>enum                 </td><td>real             </td><td>real             </td><td>real             </td><td>real             </td><td>real              </td><td>real              </td><td>real                </td><td>real              </td><td>real                     </td><td>time               </td><td>real             </td><td>time               </td><td>time                </td><td>int                         </td><td>int          </td><td>enum              </td><td>int                 </td><td>int               </td><td>int               </td><td>int               </td></tr>\n",
       "<tr><td>mins   </td><td>0.0              </td><td>54734.0           </td><td>500.0             </td><td>500.0            </td><td>0.0               </td><td>36.0              </td><td>5.32              </td><td>15.67             </td><td>       </td><td>           </td><td>                         </td><td>            </td><td>                </td><td>0.0              </td><td>                     </td><td>1180656000000.0    </td><td>             </td><td>            </td><td>NaN                                                                 </td><td>                  </td><td>                                     </td><td>          </td><td>            </td><td>0.0               </td><td>0.0              </td><td>0.0               </td><td>0.0               </td><td>                     </td><td>0.0              </td><td>0.0              </td><td>0.0              </td><td>0.0              </td><td>0.0               </td><td>0.0               </td><td>0.0                 </td><td>0.0               </td><td>0.0                      </td><td>1196467200000.0    </td><td>0.0              </td><td>1196467200000.0    </td><td>1177977600000.0     </td><td>0.0                         </td><td>1.0          </td><td>                  </td><td>0.0                 </td><td>0.0               </td><td>0.0               </td><td>0.0               </td></tr>\n",
       "<tr><td>mean   </td><td>443689.0         </td><td>32465133.05502383 </td><td>14755.264605089838</td><td>14741.87762500578</td><td>14702.464383229893</td><td>43.201089951418766</td><td>13.246739679437994</td><td>436.71712736046254</td><td>       </td><td>           </td><td>                         </td><td>            </td><td>                </td><td>75027.5877607663 </td><td>                     </td><td>1404975058855.347  </td><td>             </td><td>            </td><td>NaN                                                                 </td><td>                  </td><td>                                     </td><td>          </td><td>            </td><td>18.15703873992962 </td><td>16920.78753272278</td><td>55.0676932314176  </td><td>25.267200373233983</td><td>                     </td><td>8403.124851906568</td><td>8399.713242132164</td><td>7558.826683644048</td><td>7521.160306148773</td><td>5757.706423625079 </td><td>1754.8043266405869</td><td>0.3966917912800607  </td><td>45.91924337059967 </td><td>4.880757378865848        </td><td>1439280156497.2617 </td><td>2164.145585458205</td><td>1453338759032.0425 </td><td>1445818735640.339   </td><td>0.014377171422808067        </td><td>1.0          </td><td>                  </td><td>0.004991103012354361</td><td>207.82808698425387</td><td>128413.79487344186</td><td>29528.944954748767</td></tr>\n",
       "<tr><td>maxs   </td><td>887378.0         </td><td>68617057.0        </td><td>35000.0           </td><td>35000.0          </td><td>35000.0           </td><td>60.0              </td><td>28.99             </td><td>1445.46           </td><td>       </td><td>           </td><td>                         </td><td>            </td><td>                </td><td>9500000.0        </td><td>                     </td><td>1448928000000.0    </td><td>             </td><td>            </td><td>NaN                                                                 </td><td>                  </td><td>                                     </td><td>          </td><td>            </td><td>9999.0            </td><td>2904836.0        </td><td>892.3             </td><td>169.0             </td><td>                     </td><td>49372.86         </td><td>49372.86         </td><td>57777.57987      </td><td>57777.58         </td><td>35000.03          </td><td>24205.62          </td><td>358.68              </td><td>33520.27          </td><td>7002.19                  </td><td>1451606400000.0    </td><td>36475.59         </td><td>1456790400000.0    </td><td>1451606400000.0     </td><td>20.0                        </td><td>1.0          </td><td>                  </td><td>14.0                </td><td>9152545.0         </td><td>8000078.0         </td><td>9999999.0         </td></tr>\n",
       "<tr><td>sigma  </td><td>256164.3965991371</td><td>22827341.721265927</td><td>8435.455601278396 </td><td>8429.89765671465 </td><td>8442.106731568256 </td><td>10.998663494675679</td><td>4.3818674147124055</td><td>244.18659347639777</td><td>       </td><td>           </td><td>                         </td><td>            </td><td>                </td><td>64698.15432321104</td><td>                     </td><td>40449468045.59113  </td><td>             </td><td>            </td><td>NaN                                                                 </td><td>                  </td><td>                                     </td><td>          </td><td>            </td><td>17.190625687941193</td><td>22426.79189596304</td><td>23.827601467559624</td><td>11.841248644883182</td><td>                     </td><td>8493.450268733663</td><td>8489.997616504223</td><td>7871.243335696598</td><td>7846.108603577945</td><td>6625.4410457026015</td><td>2095.3560992364487</td><td>4.087825339066813   </td><td>409.69387363306606</td><td>63.12528090850401        </td><td>26794449713.895695 </td><td>4794.783232905943</td><td>9880193553.80751   </td><td>19145269700.535465  </td><td>0.13417991942955326         </td><td>0.0          </td><td>                  </td><td>0.07762408160909971 </td><td>9894.829152415256 </td><td>152266.9009575356 </td><td>37010.20949017133 </td></tr>\n",
       "<tr><td>zeros  </td><td>1                </td><td>0                 </td><td>0                 </td><td>0                </td><td>233               </td><td>0                 </td><td>0                 </td><td>0                 </td><td>       </td><td>           </td><td>                         </td><td>            </td><td>                </td><td>2                </td><td>                     </td><td>0                  </td><td>             </td><td>            </td><td>0                                                                   </td><td>                  </td><td>                                     </td><td>          </td><td>            </td><td>451               </td><td>3402             </td><td>3540              </td><td>29                </td><td>                     </td><td>255798           </td><td>255798           </td><td>17759            </td><td>18037            </td><td>18145             </td><td>18214             </td><td>874862              </td><td>862702            </td><td>863872                   </td><td>0                  </td><td>17673            </td><td>0                  </td><td>0                   </td><td>875698                      </td><td>0            </td><td>                  </td><td>883265              </td><td>771222            </td><td>70402             </td><td>70563             </td></tr>\n",
       "<tr><td>missing</td><td>0                </td><td>0                 </td><td>0                 </td><td>0                </td><td>0                 </td><td>0                 </td><td>0                 </td><td>0                 </td><td>0      </td><td>0          </td><td>0                        </td><td>44825       </td><td>0               </td><td>0                </td><td>0                    </td><td>0                  </td><td>0            </td><td>0           </td><td>0                                                                   </td><td>0                 </td><td>1                                    </td><td>0         </td><td>0           </td><td>0                 </td><td>0                </td><td>0                 </td><td>0                 </td><td>0                    </td><td>0                </td><td>0                </td><td>0                </td><td>0                </td><td>0                 </td><td>0                 </td><td>0                   </td><td>0                 </td><td>0                        </td><td>17659              </td><td>0                </td><td>252971             </td><td>53                  </td><td>0                           </td><td>0            </td><td>0                 </td><td>0                   </td><td>0                 </td><td>0                 </td><td>0                 </td></tr>\n",
       "<tr><td>0      </td><td>0.0              </td><td>1077501.0         </td><td>5000.0            </td><td>5000.0           </td><td>4975.0            </td><td>36.0              </td><td>10.65             </td><td>162.87            </td><td>B      </td><td>B2         </td><td>missing                  </td><td>10+ years   </td><td>RENT            </td><td>24000.0          </td><td>Verified             </td><td>2011-12-01 00:00:00</td><td>Fully Paid   </td><td>n           </td><td>https://www.lendingclub.com/browse/loanDetail.action?loan_id=1077501</td><td>credit_card       </td><td>Computer                             </td><td>860xx     </td><td>AZ          </td><td>27.65             </td><td>13648.0          </td><td>83.7              </td><td>9.0               </td><td>f                    </td><td>0.0              </td><td>0.0              </td><td>5861.071414      </td><td>5831.78          </td><td>5000.0            </td><td>861.07            </td><td>0.0                 </td><td>0.0               </td><td>0.0                      </td><td>2015-01-01 00:00:00</td><td>171.62           </td><td>                   </td><td>2016-01-01 00:00:00 </td><td>0.0                         </td><td>1.0          </td><td>INDIVIDUAL        </td><td>0.0                 </td><td>0.0               </td><td>0.0               </td><td>0.0               </td></tr>\n",
       "<tr><td>1      </td><td>1.0              </td><td>1077430.0         </td><td>2500.0            </td><td>2500.0           </td><td>2500.0            </td><td>60.0              </td><td>15.27             </td><td>59.83             </td><td>C      </td><td>C4         </td><td>Ryder                    </td><td>< 1 year    </td><td>RENT            </td><td>30000.0          </td><td>Source Verified      </td><td>2011-12-01 00:00:00</td><td>Charged Off  </td><td>n           </td><td>https://www.lendingclub.com/browse/loanDetail.action?loan_id=1077430</td><td>car               </td><td>bike                                 </td><td>309xx     </td><td>GA          </td><td>1.0               </td><td>1687.0           </td><td>9.4               </td><td>4.0               </td><td>f                    </td><td>0.0              </td><td>0.0              </td><td>1008.71          </td><td>1008.71          </td><td>456.46            </td><td>435.17            </td><td>0.0                 </td><td>117.08            </td><td>1.11                     </td><td>2013-04-01 00:00:00</td><td>119.66           </td><td>                   </td><td>2013-09-01 00:00:00 </td><td>0.0                         </td><td>1.0          </td><td>INDIVIDUAL        </td><td>0.0                 </td><td>0.0               </td><td>0.0               </td><td>0.0               </td></tr>\n",
       "<tr><td>2      </td><td>2.0              </td><td>1077175.0         </td><td>2400.0            </td><td>2400.0           </td><td>2400.0            </td><td>36.0              </td><td>15.96             </td><td>84.33             </td><td>C      </td><td>C5         </td><td>missing                  </td><td>10+ years   </td><td>RENT            </td><td>12252.0          </td><td>Not Verified         </td><td>2011-12-01 00:00:00</td><td>Fully Paid   </td><td>n           </td><td>https://www.lendingclub.com/browse/loanDetail.action?loan_id=1077175</td><td>small_business    </td><td>real estate business                 </td><td>606xx     </td><td>IL          </td><td>8.72              </td><td>2956.0           </td><td>98.5              </td><td>10.0              </td><td>f                    </td><td>0.0              </td><td>0.0              </td><td>3003.653644      </td><td>3003.65          </td><td>2400.0            </td><td>603.65            </td><td>0.0                 </td><td>0.0               </td><td>0.0                      </td><td>2014-06-01 00:00:00</td><td>649.91           </td><td>                   </td><td>2016-01-01 00:00:00 </td><td>0.0                         </td><td>1.0          </td><td>INDIVIDUAL        </td><td>0.0                 </td><td>0.0               </td><td>0.0               </td><td>0.0               </td></tr>\n",
       "<tr><td>3      </td><td>3.0              </td><td>1076863.0         </td><td>10000.0           </td><td>10000.0          </td><td>10000.0           </td><td>36.0              </td><td>13.49             </td><td>339.31            </td><td>C      </td><td>C1         </td><td>AIR RESOURCES BOARD      </td><td>10+ years   </td><td>RENT            </td><td>49200.0          </td><td>Source Verified      </td><td>2011-12-01 00:00:00</td><td>Fully Paid   </td><td>n           </td><td>https://www.lendingclub.com/browse/loanDetail.action?loan_id=1076863</td><td>other             </td><td>personel                             </td><td>917xx     </td><td>CA          </td><td>20.0              </td><td>5598.0           </td><td>21.0              </td><td>37.0              </td><td>f                    </td><td>0.0              </td><td>0.0              </td><td>12226.30221      </td><td>12226.3          </td><td>10000.0           </td><td>2209.33           </td><td>16.97               </td><td>0.0               </td><td>0.0                      </td><td>2015-01-01 00:00:00</td><td>357.48           </td><td>                   </td><td>2015-01-01 00:00:00 </td><td>0.0                         </td><td>1.0          </td><td>INDIVIDUAL        </td><td>0.0                 </td><td>0.0               </td><td>0.0               </td><td>0.0               </td></tr>\n",
       "<tr><td>4      </td><td>4.0              </td><td>1075358.0         </td><td>3000.0            </td><td>3000.0           </td><td>3000.0            </td><td>60.0              </td><td>12.69             </td><td>67.79             </td><td>B      </td><td>B5         </td><td>University Medical Group </td><td>1 year      </td><td>RENT            </td><td>80000.0          </td><td>Source Verified      </td><td>2011-12-01 00:00:00</td><td>Current      </td><td>n           </td><td>https://www.lendingclub.com/browse/loanDetail.action?loan_id=1075358</td><td>other             </td><td>Personal                             </td><td>972xx     </td><td>OR          </td><td>17.94             </td><td>27783.0          </td><td>53.9              </td><td>38.0              </td><td>f                    </td><td>766.9            </td><td>766.9            </td><td>3242.17          </td><td>3242.17          </td><td>2233.1            </td><td>1009.07           </td><td>0.0                 </td><td>0.0               </td><td>0.0                      </td><td>2016-01-01 00:00:00</td><td>67.79            </td><td>2016-02-01 00:00:00</td><td>2016-01-01 00:00:00 </td><td>0.0                         </td><td>1.0          </td><td>INDIVIDUAL        </td><td>0.0                 </td><td>0.0               </td><td>0.0               </td><td>0.0               </td></tr>\n",
       "<tr><td>5      </td><td>5.0              </td><td>1075269.0         </td><td>5000.0            </td><td>5000.0           </td><td>5000.0            </td><td>36.0              </td><td>7.9               </td><td>156.46            </td><td>A      </td><td>A4         </td><td>Veolia Transportaton     </td><td>3 years     </td><td>RENT            </td><td>36000.0          </td><td>Source Verified      </td><td>2011-12-01 00:00:00</td><td>Fully Paid   </td><td>n           </td><td>https://www.lendingclub.com/browse/loanDetail.action?loan_id=1075269</td><td>wedding           </td><td>My wedding loan I promise to pay back</td><td>852xx     </td><td>AZ          </td><td>11.2              </td><td>7963.0           </td><td>28.3              </td><td>12.0              </td><td>f                    </td><td>0.0              </td><td>0.0              </td><td>5631.377753      </td><td>5631.38          </td><td>5000.0            </td><td>631.38            </td><td>0.0                 </td><td>0.0               </td><td>0.0                      </td><td>2015-01-01 00:00:00</td><td>161.03           </td><td>                   </td><td>2015-09-01 00:00:00 </td><td>0.0                         </td><td>1.0          </td><td>INDIVIDUAL        </td><td>0.0                 </td><td>0.0               </td><td>0.0               </td><td>0.0               </td></tr>\n",
       "<tr><td>6      </td><td>6.0              </td><td>1069639.0         </td><td>7000.0            </td><td>7000.0           </td><td>7000.0            </td><td>60.0              </td><td>15.96             </td><td>170.08            </td><td>C      </td><td>C5         </td><td>Southern Star Photography</td><td>8 years     </td><td>RENT            </td><td>47004.0          </td><td>Not Verified         </td><td>2011-12-01 00:00:00</td><td>Current      </td><td>n           </td><td>https://www.lendingclub.com/browse/loanDetail.action?loan_id=1069639</td><td>debt_consolidation</td><td>Loan                                 </td><td>280xx     </td><td>NC          </td><td>23.51             </td><td>17726.0          </td><td>85.6              </td><td>11.0              </td><td>f                    </td><td>1889.15          </td><td>1889.15          </td><td>8136.84          </td><td>8136.84          </td><td>5110.85           </td><td>3025.99           </td><td>0.0                 </td><td>0.0               </td><td>0.0                      </td><td>2016-01-01 00:00:00</td><td>170.08           </td><td>2016-02-01 00:00:00</td><td>2016-01-01 00:00:00 </td><td>0.0                         </td><td>1.0          </td><td>INDIVIDUAL        </td><td>0.0                 </td><td>0.0               </td><td>0.0               </td><td>0.0               </td></tr>\n",
       "<tr><td>7      </td><td>7.0              </td><td>1072053.0         </td><td>3000.0            </td><td>3000.0           </td><td>3000.0            </td><td>36.0              </td><td>18.64             </td><td>109.43            </td><td>E      </td><td>E1         </td><td>MKC Accounting           </td><td>9 years     </td><td>RENT            </td><td>48000.0          </td><td>Source Verified      </td><td>2011-12-01 00:00:00</td><td>Fully Paid   </td><td>n           </td><td>https://www.lendingclub.com/browse/loanDetail.action?loan_id=1072053</td><td>car               </td><td>Car Downpayment                      </td><td>900xx     </td><td>CA          </td><td>5.35              </td><td>8221.0           </td><td>87.5              </td><td>4.0               </td><td>f                    </td><td>0.0              </td><td>0.0              </td><td>3938.144334000001</td><td>3938.14          </td><td>3000.0            </td><td>938.14            </td><td>0.0                 </td><td>0.0               </td><td>0.0                      </td><td>2015-01-01 00:00:00</td><td>111.34           </td><td>                   </td><td>2014-12-01 00:00:00 </td><td>0.0                         </td><td>1.0          </td><td>INDIVIDUAL        </td><td>0.0                 </td><td>0.0               </td><td>0.0               </td><td>0.0               </td></tr>\n",
       "<tr><td>8      </td><td>8.0              </td><td>1071795.0         </td><td>5600.0            </td><td>5600.0           </td><td>5600.0            </td><td>60.0              </td><td>21.28             </td><td>152.39            </td><td>F      </td><td>F2         </td><td>missing                  </td><td>4 years     </td><td>OWN             </td><td>40000.0          </td><td>Source Verified      </td><td>2011-12-01 00:00:00</td><td>Charged Off  </td><td>n           </td><td>https://www.lendingclub.com/browse/loanDetail.action?loan_id=1071795</td><td>small_business    </td><td>Expand Business & Buy Debt Portfolio </td><td>958xx     </td><td>CA          </td><td>5.55              </td><td>5210.0           </td><td>32.6              </td><td>13.0              </td><td>f                    </td><td>0.0              </td><td>0.0              </td><td>646.02           </td><td>646.02           </td><td>162.02            </td><td>294.94            </td><td>0.0                 </td><td>189.06            </td><td>2.09                     </td><td>2012-04-01 00:00:00</td><td>152.39           </td><td>                   </td><td>2012-08-01 00:00:00 </td><td>0.0                         </td><td>1.0          </td><td>INDIVIDUAL        </td><td>0.0                 </td><td>0.0               </td><td>0.0               </td><td>0.0               </td></tr>\n",
       "<tr><td>9      </td><td>9.0              </td><td>1071570.0         </td><td>5375.0            </td><td>5375.0           </td><td>5350.0            </td><td>60.0              </td><td>12.69             </td><td>121.45            </td><td>B      </td><td>B5         </td><td>Starbucks                </td><td>< 1 year    </td><td>RENT            </td><td>15000.0          </td><td>Verified             </td><td>2011-12-01 00:00:00</td><td>Charged Off  </td><td>n           </td><td>https://www.lendingclub.com/browse/loanDetail.action?loan_id=1071570</td><td>other             </td><td>Building my credit history.          </td><td>774xx     </td><td>TX          </td><td>18.08             </td><td>9279.0           </td><td>36.5              </td><td>3.0               </td><td>f                    </td><td>0.0              </td><td>0.0              </td><td>1476.19          </td><td>1469.34          </td><td>673.48            </td><td>533.42            </td><td>0.0                 </td><td>269.29            </td><td>2.52                     </td><td>2012-11-01 00:00:00</td><td>121.45           </td><td>                   </td><td>2013-03-01 00:00:00 </td><td>0.0                         </td><td>1.0          </td><td>INDIVIDUAL        </td><td>0.0                 </td><td>0.0               </td><td>0.0               </td><td>0.0               </td></tr>\n",
       "</tbody>\n",
       "</table>"
      ]
     },
     "metadata": {},
     "output_type": "display_data"
    }
   ],
   "source": [
    "Lending_data.describe()"
   ]
  },
  {
   "cell_type": "code",
   "execution_count": 48,
   "metadata": {},
   "outputs": [
    {
     "data": {
      "text/html": [
       "<table>\n",
       "<thead>\n",
       "<tr><th style=\"text-align: right;\">  C1</th><th style=\"text-align: right;\">         id</th><th style=\"text-align: right;\">  loan_amnt</th><th style=\"text-align: right;\">  funded_amnt</th><th style=\"text-align: right;\">  funded_amnt_inv</th><th style=\"text-align: right;\">  term</th><th style=\"text-align: right;\">  int_rate</th><th style=\"text-align: right;\">  installment</th><th>grade  </th><th>sub_grade  </th><th>emp_title                               </th><th>emp_length  </th><th>home_ownership  </th><th style=\"text-align: right;\">  annual_inc</th><th>verification_status  </th><th>issue_d            </th><th>loan_status  </th><th>pymnt_plan  </th><th>url                                                                 </th><th>purpose           </th><th>title                      </th><th>zip_code  </th><th>addr_state  </th><th style=\"text-align: right;\">  dti</th><th style=\"text-align: right;\">  revol_bal</th><th style=\"text-align: right;\">  revol_util</th><th style=\"text-align: right;\">  total_acc</th><th>initial_list_status  </th><th style=\"text-align: right;\">  out_prncp</th><th style=\"text-align: right;\">  out_prncp_inv</th><th style=\"text-align: right;\">  total_pymnt</th><th style=\"text-align: right;\">  total_pymnt_inv</th><th style=\"text-align: right;\">  total_rec_prncp</th><th style=\"text-align: right;\">  total_rec_int</th><th style=\"text-align: right;\">  total_rec_late_fee</th><th style=\"text-align: right;\">  recoveries</th><th style=\"text-align: right;\">  collection_recovery_fee</th><th>last_pymnt_d       </th><th style=\"text-align: right;\">  last_pymnt_amnt</th><th>next_pymnt_d       </th><th>last_credit_pull_d  </th><th style=\"text-align: right;\">  collections_12_mths_ex_med</th><th style=\"text-align: right;\">  policy_code</th><th>application_type  </th><th style=\"text-align: right;\">  acc_now_delinq</th><th style=\"text-align: right;\">  tot_coll_amt</th><th style=\"text-align: right;\">  tot_cur_bal</th><th style=\"text-align: right;\">  total_rev_hi_lim</th></tr>\n",
       "</thead>\n",
       "<tbody>\n",
       "<tr><td style=\"text-align: right;\">   2</td><td style=\"text-align: right;\">1.07718e+06</td><td style=\"text-align: right;\">       2400</td><td style=\"text-align: right;\">         2400</td><td style=\"text-align: right;\">           2400  </td><td style=\"text-align: right;\">    36</td><td style=\"text-align: right;\">     15.96</td><td style=\"text-align: right;\">        84.33</td><td>C      </td><td>C5         </td><td>missing                                 </td><td>10+ years   </td><td>RENT            </td><td style=\"text-align: right;\">       12252</td><td>Not Verified         </td><td>2011-12-01 00:00:00</td><td>Fully Paid   </td><td>n           </td><td>https://www.lendingclub.com/browse/loanDetail.action?loan_id=1077175</td><td>small_business    </td><td>real estate business       </td><td>606xx     </td><td>IL          </td><td style=\"text-align: right;\"> 8.72</td><td style=\"text-align: right;\">       2956</td><td style=\"text-align: right;\">        98.5</td><td style=\"text-align: right;\">         10</td><td>f                    </td><td style=\"text-align: right;\">       0   </td><td style=\"text-align: right;\">           0   </td><td style=\"text-align: right;\">      3003.65</td><td style=\"text-align: right;\">          3003.65</td><td style=\"text-align: right;\">          2400   </td><td style=\"text-align: right;\">         603.65</td><td style=\"text-align: right;\">              0     </td><td style=\"text-align: right;\">        0   </td><td style=\"text-align: right;\">                    0    </td><td>2014-06-01 00:00:00</td><td style=\"text-align: right;\">           649.91</td><td>                   </td><td>2016-01-01 00:00:00 </td><td style=\"text-align: right;\">                           0</td><td style=\"text-align: right;\">            1</td><td>INDIVIDUAL        </td><td style=\"text-align: right;\">               0</td><td style=\"text-align: right;\">             0</td><td style=\"text-align: right;\">            0</td><td style=\"text-align: right;\">                 0</td></tr>\n",
       "<tr><td style=\"text-align: right;\">   9</td><td style=\"text-align: right;\">1.07157e+06</td><td style=\"text-align: right;\">       5375</td><td style=\"text-align: right;\">         5375</td><td style=\"text-align: right;\">           5350  </td><td style=\"text-align: right;\">    60</td><td style=\"text-align: right;\">     12.69</td><td style=\"text-align: right;\">       121.45</td><td>B      </td><td>B5         </td><td>Starbucks                               </td><td>< 1 year    </td><td>RENT            </td><td style=\"text-align: right;\">       15000</td><td>Verified             </td><td>2011-12-01 00:00:00</td><td>Charged Off  </td><td>n           </td><td>https://www.lendingclub.com/browse/loanDetail.action?loan_id=1071570</td><td>other             </td><td>Building my credit history.</td><td>774xx     </td><td>TX          </td><td style=\"text-align: right;\">18.08</td><td style=\"text-align: right;\">       9279</td><td style=\"text-align: right;\">        36.5</td><td style=\"text-align: right;\">          3</td><td>f                    </td><td style=\"text-align: right;\">       0   </td><td style=\"text-align: right;\">           0   </td><td style=\"text-align: right;\">      1476.19</td><td style=\"text-align: right;\">          1469.34</td><td style=\"text-align: right;\">           673.48</td><td style=\"text-align: right;\">         533.42</td><td style=\"text-align: right;\">              0     </td><td style=\"text-align: right;\">      269.29</td><td style=\"text-align: right;\">                    2.52 </td><td>2012-11-01 00:00:00</td><td style=\"text-align: right;\">           121.45</td><td>                   </td><td>2013-03-01 00:00:00 </td><td style=\"text-align: right;\">                           0</td><td style=\"text-align: right;\">            1</td><td>INDIVIDUAL        </td><td style=\"text-align: right;\">               0</td><td style=\"text-align: right;\">             0</td><td style=\"text-align: right;\">            0</td><td style=\"text-align: right;\">                 0</td></tr>\n",
       "<tr><td style=\"text-align: right;\">  20</td><td style=\"text-align: right;\">1.06974e+06</td><td style=\"text-align: right;\">      20250</td><td style=\"text-align: right;\">        20250</td><td style=\"text-align: right;\">          19142.2</td><td style=\"text-align: right;\">    60</td><td style=\"text-align: right;\">     15.27</td><td style=\"text-align: right;\">       484.63</td><td>C      </td><td>C4         </td><td>Archdiocese of Galveston Houston        </td><td>3 years     </td><td>RENT            </td><td style=\"text-align: right;\">       43370</td><td>Verified             </td><td>2011-12-01 00:00:00</td><td>Fully Paid   </td><td>n           </td><td>https://www.lendingclub.com/browse/loanDetail.action?loan_id=1069740</td><td>debt_consolidation</td><td>Freedom From Credit Cards  </td><td>770xx     </td><td>TX          </td><td style=\"text-align: right;\">26.53</td><td style=\"text-align: right;\">      17813</td><td style=\"text-align: right;\">        85.6</td><td style=\"text-align: right;\">         22</td><td>f                    </td><td style=\"text-align: right;\">       0   </td><td style=\"text-align: right;\">           0   </td><td style=\"text-align: right;\">     27663   </td><td style=\"text-align: right;\">         25417.7 </td><td style=\"text-align: right;\">         20250   </td><td style=\"text-align: right;\">        7413.04</td><td style=\"text-align: right;\">              0     </td><td style=\"text-align: right;\">        0   </td><td style=\"text-align: right;\">                    0    </td><td>2015-08-01 00:00:00</td><td style=\"text-align: right;\">          6024.09</td><td>                   </td><td>2015-12-01 00:00:00 </td><td style=\"text-align: right;\">                           0</td><td style=\"text-align: right;\">            1</td><td>INDIVIDUAL        </td><td style=\"text-align: right;\">               0</td><td style=\"text-align: right;\">             0</td><td style=\"text-align: right;\">            0</td><td style=\"text-align: right;\">                 0</td></tr>\n",
       "<tr><td style=\"text-align: right;\">  37</td><td style=\"text-align: right;\">1.06936e+06</td><td style=\"text-align: right;\">      15000</td><td style=\"text-align: right;\">        15000</td><td style=\"text-align: right;\">          15000  </td><td style=\"text-align: right;\">    36</td><td style=\"text-align: right;\">      7.9 </td><td style=\"text-align: right;\">       469.36</td><td>A      </td><td>A4         </td><td>Gateway Hospice                         </td><td>1 year      </td><td>RENT            </td><td style=\"text-align: right;\">       45000</td><td>Verified             </td><td>2011-12-01 00:00:00</td><td>Fully Paid   </td><td>n           </td><td>https://www.lendingclub.com/browse/loanDetail.action?loan_id=1069357</td><td>debt_consolidation</td><td>Debt Consolidation Loan    </td><td>445xx     </td><td>OH          </td><td style=\"text-align: right;\"> 8.48</td><td style=\"text-align: right;\">       6704</td><td style=\"text-align: right;\">        50.4</td><td style=\"text-align: right;\">         27</td><td>f                    </td><td style=\"text-align: right;\">       0   </td><td style=\"text-align: right;\">           0   </td><td style=\"text-align: right;\">     16662.6 </td><td style=\"text-align: right;\">         16662.6 </td><td style=\"text-align: right;\">         15000   </td><td style=\"text-align: right;\">        1662.6 </td><td style=\"text-align: right;\">              0     </td><td style=\"text-align: right;\">        0   </td><td style=\"text-align: right;\">                    0    </td><td>2014-01-01 00:00:00</td><td style=\"text-align: right;\">          5872.8 </td><td>                   </td><td>2016-01-01 00:00:00 </td><td style=\"text-align: right;\">                           0</td><td style=\"text-align: right;\">            1</td><td>INDIVIDUAL        </td><td style=\"text-align: right;\">               0</td><td style=\"text-align: right;\">             0</td><td style=\"text-align: right;\">            0</td><td style=\"text-align: right;\">                 0</td></tr>\n",
       "<tr><td style=\"text-align: right;\">  39</td><td style=\"text-align: right;\">1.06935e+06</td><td style=\"text-align: right;\">      12500</td><td style=\"text-align: right;\">        12500</td><td style=\"text-align: right;\">          12475  </td><td style=\"text-align: right;\">    60</td><td style=\"text-align: right;\">     12.69</td><td style=\"text-align: right;\">       282.44</td><td>B      </td><td>B5         </td><td>United States Infrastructure Corporation</td><td>1 year      </td><td>RENT            </td><td style=\"text-align: right;\">       27000</td><td>Verified             </td><td>2011-12-01 00:00:00</td><td>Current      </td><td>n           </td><td>https://www.lendingclub.com/browse/loanDetail.action?loan_id=1069346</td><td>debt_consolidation</td><td>Credit card debt           </td><td>604xx     </td><td>IL          </td><td style=\"text-align: right;\">16.04</td><td style=\"text-align: right;\">      10143</td><td style=\"text-align: right;\">        50  </td><td style=\"text-align: right;\">         24</td><td>f                    </td><td style=\"text-align: right;\">    3193.13</td><td style=\"text-align: right;\">        3186.72</td><td style=\"text-align: right;\">     13506.5 </td><td style=\"text-align: right;\">         13479.6 </td><td style=\"text-align: right;\">          9306.87</td><td style=\"text-align: right;\">        4199.67</td><td style=\"text-align: right;\">              0     </td><td style=\"text-align: right;\">        0   </td><td style=\"text-align: right;\">                    0    </td><td>2016-01-01 00:00:00</td><td style=\"text-align: right;\">           282.44</td><td>2016-01-01 00:00:00</td><td>2016-01-01 00:00:00 </td><td style=\"text-align: right;\">                           0</td><td style=\"text-align: right;\">            1</td><td>INDIVIDUAL        </td><td style=\"text-align: right;\">               0</td><td style=\"text-align: right;\">             0</td><td style=\"text-align: right;\">            0</td><td style=\"text-align: right;\">                 0</td></tr>\n",
       "<tr><td style=\"text-align: right;\">  51</td><td style=\"text-align: right;\">1.06812e+06</td><td style=\"text-align: right;\">      25600</td><td style=\"text-align: right;\">        25600</td><td style=\"text-align: right;\">          25350  </td><td style=\"text-align: right;\">    36</td><td style=\"text-align: right;\">      9.91</td><td style=\"text-align: right;\">       824.96</td><td>B      </td><td>B1         </td><td>City of Santa Monica                    </td><td>9 years     </td><td>RENT            </td><td style=\"text-align: right;\">      110000</td><td>Verified             </td><td>2011-12-01 00:00:00</td><td>Fully Paid   </td><td>n           </td><td>https://www.lendingclub.com/browse/loanDetail.action?loan_id=1068120</td><td>credit_card       </td><td>Credit card refinance loan </td><td>913xx     </td><td>CA          </td><td style=\"text-align: right;\">15.71</td><td style=\"text-align: right;\">      26088</td><td style=\"text-align: right;\">        62  </td><td style=\"text-align: right;\">         27</td><td>f                    </td><td style=\"text-align: right;\">       0   </td><td style=\"text-align: right;\">           0   </td><td style=\"text-align: right;\">     29695.6 </td><td style=\"text-align: right;\">         29405.6 </td><td style=\"text-align: right;\">         25600   </td><td style=\"text-align: right;\">        4095.62</td><td style=\"text-align: right;\">              0     </td><td style=\"text-align: right;\">        0   </td><td style=\"text-align: right;\">                    0    </td><td>2015-01-01 00:00:00</td><td style=\"text-align: right;\">           838.27</td><td>                   </td><td>2016-01-01 00:00:00 </td><td style=\"text-align: right;\">                           0</td><td style=\"text-align: right;\">            1</td><td>INDIVIDUAL        </td><td style=\"text-align: right;\">               0</td><td style=\"text-align: right;\">             0</td><td style=\"text-align: right;\">            0</td><td style=\"text-align: right;\">                 0</td></tr>\n",
       "<tr><td style=\"text-align: right;\">  55</td><td style=\"text-align: right;\">1.06941e+06</td><td style=\"text-align: right;\">      21000</td><td style=\"text-align: right;\">        21000</td><td style=\"text-align: right;\">          20975  </td><td style=\"text-align: right;\">    60</td><td style=\"text-align: right;\">     19.91</td><td style=\"text-align: right;\">       555.33</td><td>E      </td><td>E4         </td><td>Costco                                  </td><td>7 years     </td><td>RENT            </td><td style=\"text-align: right;\">       50000</td><td>Verified             </td><td>2011-12-01 00:00:00</td><td>Charged Off  </td><td>n           </td><td>https://www.lendingclub.com/browse/loanDetail.action?loan_id=1069410</td><td>debt_consolidation</td><td>Bill pay of                </td><td>980xx     </td><td>WA          </td><td style=\"text-align: right;\">21.58</td><td style=\"text-align: right;\">      19448</td><td style=\"text-align: right;\">        97.6</td><td style=\"text-align: right;\">         14</td><td>f                    </td><td style=\"text-align: right;\">       0   </td><td style=\"text-align: right;\">           0   </td><td style=\"text-align: right;\">     18319.1 </td><td style=\"text-align: right;\">         18297.3 </td><td style=\"text-align: right;\">          8990.81</td><td style=\"text-align: right;\">        9328.33</td><td style=\"text-align: right;\">              0     </td><td style=\"text-align: right;\">        0   </td><td style=\"text-align: right;\">                    0    </td><td>2014-10-01 00:00:00</td><td style=\"text-align: right;\">           555.33</td><td>                   </td><td>2016-01-01 00:00:00 </td><td style=\"text-align: right;\">                           0</td><td style=\"text-align: right;\">            1</td><td>INDIVIDUAL        </td><td style=\"text-align: right;\">               0</td><td style=\"text-align: right;\">             0</td><td style=\"text-align: right;\">            0</td><td style=\"text-align: right;\">                 0</td></tr>\n",
       "<tr><td style=\"text-align: right;\">  63</td><td style=\"text-align: right;\">1.06892e+06</td><td style=\"text-align: right;\">       8000</td><td style=\"text-align: right;\">         8000</td><td style=\"text-align: right;\">           8000  </td><td style=\"text-align: right;\">    36</td><td style=\"text-align: right;\">     16.77</td><td style=\"text-align: right;\">       284.31</td><td>D      </td><td>D2         </td><td>Omniplex                                </td><td>< 1 year    </td><td>RENT            </td><td style=\"text-align: right;\">       62000</td><td>Not Verified         </td><td>2011-12-01 00:00:00</td><td>Fully Paid   </td><td>n           </td><td>https://www.lendingclub.com/browse/loanDetail.action?loan_id=1068923</td><td>debt_consolidation</td><td>Debt Consolidation Loan    </td><td>225xx     </td><td>VA          </td><td style=\"text-align: right;\">21.64</td><td style=\"text-align: right;\">       6088</td><td style=\"text-align: right;\">        66.9</td><td style=\"text-align: right;\">         20</td><td>f                    </td><td style=\"text-align: right;\">       0   </td><td style=\"text-align: right;\">           0   </td><td style=\"text-align: right;\">     10267.3 </td><td style=\"text-align: right;\">         10267.3 </td><td style=\"text-align: right;\">          8000   </td><td style=\"text-align: right;\">        2252.27</td><td style=\"text-align: right;\">             14.9888</td><td style=\"text-align: right;\">        0   </td><td style=\"text-align: right;\">                    0    </td><td>2014-12-01 00:00:00</td><td style=\"text-align: right;\">           606.54</td><td>                   </td><td>2016-01-01 00:00:00 </td><td style=\"text-align: right;\">                           0</td><td style=\"text-align: right;\">            1</td><td>INDIVIDUAL        </td><td style=\"text-align: right;\">               0</td><td style=\"text-align: right;\">             0</td><td style=\"text-align: right;\">            0</td><td style=\"text-align: right;\">                 0</td></tr>\n",
       "<tr><td style=\"text-align: right;\">  64</td><td style=\"text-align: right;\">1.06913e+06</td><td style=\"text-align: right;\">      10000</td><td style=\"text-align: right;\">        10000</td><td style=\"text-align: right;\">           9975  </td><td style=\"text-align: right;\">    60</td><td style=\"text-align: right;\">     10.65</td><td style=\"text-align: right;\">       215.69</td><td>B      </td><td>B2         </td><td>CEC ENTERTAINMENT INC                   </td><td>10+ years   </td><td>RENT            </td><td style=\"text-align: right;\">       45996</td><td>Verified             </td><td>2011-12-01 00:00:00</td><td>Charged Off  </td><td>n           </td><td>https://www.lendingclub.com/browse/loanDetail.action?loan_id=1069126</td><td>debt_consolidation</td><td>Consolidation              </td><td>440xx     </td><td>OH          </td><td style=\"text-align: right;\">21.73</td><td style=\"text-align: right;\">      11170</td><td style=\"text-align: right;\">        30.1</td><td style=\"text-align: right;\">         15</td><td>f                    </td><td style=\"text-align: right;\">       0   </td><td style=\"text-align: right;\">           0   </td><td style=\"text-align: right;\">      8772.91</td><td style=\"text-align: right;\">          8751.08</td><td style=\"text-align: right;\">          5495.38</td><td style=\"text-align: right;\">        2429.23</td><td style=\"text-align: right;\">              1     </td><td style=\"text-align: right;\">      847.3 </td><td style=\"text-align: right;\">                  152.514</td><td>2015-04-01 00:00:00</td><td style=\"text-align: right;\">             1   </td><td>                   </td><td>2015-06-01 00:00:00 </td><td style=\"text-align: right;\">                           0</td><td style=\"text-align: right;\">            1</td><td>INDIVIDUAL        </td><td style=\"text-align: right;\">               0</td><td style=\"text-align: right;\">             0</td><td style=\"text-align: right;\">            0</td><td style=\"text-align: right;\">                 0</td></tr>\n",
       "<tr><td style=\"text-align: right;\">  72</td><td style=\"text-align: right;\">1.06907e+06</td><td style=\"text-align: right;\">       3000</td><td style=\"text-align: right;\">         3000</td><td style=\"text-align: right;\">           3000  </td><td style=\"text-align: right;\">    36</td><td style=\"text-align: right;\">     13.49</td><td style=\"text-align: right;\">       101.8 </td><td>C      </td><td>C1         </td><td>Insight Card Services                   </td><td>1 year      </td><td>RENT            </td><td style=\"text-align: right;\">       33600</td><td>Not Verified         </td><td>2011-12-01 00:00:00</td><td>Fully Paid   </td><td>n           </td><td>https://www.lendingclub.com/browse/loanDetail.action?loan_id=1069071</td><td>debt_consolidation</td><td>Credit Card Consolidation  </td><td>352xx     </td><td>AL          </td><td style=\"text-align: right;\">18.11</td><td style=\"text-align: right;\">       2745</td><td style=\"text-align: right;\">        83.2</td><td style=\"text-align: right;\">          7</td><td>f                    </td><td style=\"text-align: right;\">       0   </td><td style=\"text-align: right;\">           0   </td><td style=\"text-align: right;\">      3246.8 </td><td style=\"text-align: right;\">          3246.8 </td><td style=\"text-align: right;\">          3000   </td><td style=\"text-align: right;\">         246.8 </td><td style=\"text-align: right;\">              0     </td><td style=\"text-align: right;\">        0   </td><td style=\"text-align: right;\">                    0    </td><td>2012-09-01 00:00:00</td><td style=\"text-align: right;\">          2539.58</td><td>                   </td><td>2015-01-01 00:00:00 </td><td style=\"text-align: right;\">                           0</td><td style=\"text-align: right;\">            1</td><td>INDIVIDUAL        </td><td style=\"text-align: right;\">               0</td><td style=\"text-align: right;\">             0</td><td style=\"text-align: right;\">            0</td><td style=\"text-align: right;\">                 0</td></tr>\n",
       "</tbody>\n",
       "</table>"
      ]
     },
     "metadata": {},
     "output_type": "display_data"
    },
    {
     "name": "stdout",
     "output_type": "stream",
     "text": [
      "\n"
     ]
    }
   ],
   "source": [
    "splits = Lending_data.split_frame(ratios = [0.8], seed = 1)\n",
    "train = splits[0]\n",
    "test = splits[1]\n",
    "print(test)"
   ]
  },
  {
   "cell_type": "code",
   "execution_count": 41,
   "metadata": {},
   "outputs": [],
   "source": [
    "x = list(Lending_data.columns)\n",
    "y = \"int_rate\""
   ]
  },
  {
   "cell_type": "code",
   "execution_count": 42,
   "metadata": {},
   "outputs": [
    {
     "name": "stdout",
     "output_type": "stream",
     "text": [
      "AutoML progress: |████████████████████████████████████████████████████████| 100%\n",
      "Parse progress: |█████████████████████████████████████████████████████████| 100%\n"
     ]
    }
   ],
   "source": [
    "aml = H2OAutoML(max_runtime_secs = 60, seed = 1, project_name = \"lending_club_frame\")\n",
    "aml.train(x = x, y = y, training_frame = train, leaderboard_frame = test)"
   ]
  },
  {
   "cell_type": "code",
   "execution_count": 43,
   "metadata": {},
   "outputs": [
    {
     "name": "stdout",
     "output_type": "stream",
     "text": [
      "AutoML progress: |████████████████████████████████████████████████████████| 100%\n",
      "Parse progress: |█████████████████████████████████████████████████████████| 100%\n"
     ]
    }
   ],
   "source": [
    "aml2 = H2OAutoML(max_runtime_secs = 60, seed = 1, project_name = \"lending_full_data\")\n",
    "aml2.train(y = y, training_frame = Lending_data)"
   ]
  },
  {
   "cell_type": "code",
   "execution_count": 44,
   "metadata": {},
   "outputs": [
    {
     "data": {
      "text/html": [
       "<table>\n",
       "<thead>\n",
       "<tr><th>model_id                                             </th><th style=\"text-align: right;\">  mean_residual_deviance</th><th style=\"text-align: right;\">    rmse</th><th style=\"text-align: right;\">     mae</th><th style=\"text-align: right;\">   rmsle</th></tr>\n",
       "</thead>\n",
       "<tbody>\n",
       "<tr><td>StackedEnsemble_AllModels_0_AutoML_20190321_173459   </td><td style=\"text-align: right;\">                0.027605</td><td style=\"text-align: right;\">0.166147</td><td style=\"text-align: right;\">0.053621</td><td style=\"text-align: right;\">0.013063</td></tr>\n",
       "<tr><td>StackedEnsemble_BestOfFamily_0_AutoML_20190321_173459</td><td style=\"text-align: right;\">                0.027605</td><td style=\"text-align: right;\">0.166147</td><td style=\"text-align: right;\">0.053621</td><td style=\"text-align: right;\">0.013063</td></tr>\n",
       "<tr><td>DRF_0_AutoML_20190321_173459                         </td><td style=\"text-align: right;\">                0.027708</td><td style=\"text-align: right;\">0.166458</td><td style=\"text-align: right;\">0.051131</td><td style=\"text-align: right;\">0.013072</td></tr>\n",
       "</tbody>\n",
       "</table>"
      ]
     },
     "metadata": {},
     "output_type": "display_data"
    },
    {
     "data": {
      "text/plain": []
     },
     "execution_count": 44,
     "metadata": {},
     "output_type": "execute_result"
    }
   ],
   "source": [
    "aml.leaderboard.head()"
   ]
  },
  {
   "cell_type": "code",
   "execution_count": 45,
   "metadata": {},
   "outputs": [
    {
     "data": {
      "text/html": [
       "<table>\n",
       "<thead>\n",
       "<tr><th>model_id                                             </th><th style=\"text-align: right;\">  mean_residual_deviance</th><th style=\"text-align: right;\">    rmse</th><th style=\"text-align: right;\">     mae</th><th style=\"text-align: right;\">   rmsle</th></tr>\n",
       "</thead>\n",
       "<tbody>\n",
       "<tr><td>StackedEnsemble_BestOfFamily_0_AutoML_20190321_174235</td><td style=\"text-align: right;\">                0.028576</td><td style=\"text-align: right;\">0.169043</td><td style=\"text-align: right;\">0.052816</td><td style=\"text-align: right;\">0.013069</td></tr>\n",
       "<tr><td>StackedEnsemble_AllModels_0_AutoML_20190321_174235   </td><td style=\"text-align: right;\">                0.028576</td><td style=\"text-align: right;\">0.169043</td><td style=\"text-align: right;\">0.052816</td><td style=\"text-align: right;\">0.013069</td></tr>\n",
       "<tr><td>DRF_0_AutoML_20190321_174235                         </td><td style=\"text-align: right;\">                0.028666</td><td style=\"text-align: right;\">0.16931 </td><td style=\"text-align: right;\">0.050681</td><td style=\"text-align: right;\">0.013078</td></tr>\n",
       "</tbody>\n",
       "</table>"
      ]
     },
     "metadata": {},
     "output_type": "display_data"
    },
    {
     "data": {
      "text/plain": []
     },
     "execution_count": 45,
     "metadata": {},
     "output_type": "execute_result"
    }
   ],
   "source": [
    "aml2.leaderboard.head()"
   ]
  },
  {
   "cell_type": "code",
   "execution_count": 46,
   "metadata": {},
   "outputs": [
    {
     "name": "stdout",
     "output_type": "stream",
     "text": [
      "Parse progress: |█████████████████████████████████████████████████████████| 100%\n",
      "stackedensemble prediction progress: |████████████████████████████████████| 100%\n"
     ]
    },
    {
     "data": {
      "text/html": [
       "<table>\n",
       "<thead>\n",
       "<tr><th style=\"text-align: right;\">  predict</th></tr>\n",
       "</thead>\n",
       "<tbody>\n",
       "<tr><td style=\"text-align: right;\"> 15.9434 </td></tr>\n",
       "<tr><td style=\"text-align: right;\"> 12.2295 </td></tr>\n",
       "<tr><td style=\"text-align: right;\"> 15.2639 </td></tr>\n",
       "<tr><td style=\"text-align: right;\">  7.89075</td></tr>\n",
       "<tr><td style=\"text-align: right;\"> 12.9164 </td></tr>\n",
       "<tr><td style=\"text-align: right;\">  9.8621 </td></tr>\n",
       "<tr><td style=\"text-align: right;\"> 19.8806 </td></tr>\n",
       "<tr><td style=\"text-align: right;\"> 16.7801 </td></tr>\n",
       "<tr><td style=\"text-align: right;\"> 10.827  </td></tr>\n",
       "<tr><td style=\"text-align: right;\"> 13.4603 </td></tr>\n",
       "</tbody>\n",
       "</table>"
      ]
     },
     "metadata": {},
     "output_type": "display_data"
    },
    {
     "data": {
      "text/plain": []
     },
     "execution_count": 46,
     "metadata": {},
     "output_type": "execute_result"
    }
   ],
   "source": [
    "pred = aml.predict(test)\n",
    "pred.head()"
   ]
  },
  {
   "cell_type": "code",
   "execution_count": 47,
   "metadata": {},
   "outputs": [
    {
     "name": "stdout",
     "output_type": "stream",
     "text": [
      "\n",
      "ModelMetricsRegressionGLM: stackedensemble\n",
      "** Reported on test data. **\n",
      "\n",
      "MSE: 0.027604948982225777\n",
      "RMSE: 0.16614737127690518\n",
      "MAE: 0.05362120950789084\n",
      "RMSLE: 0.013063238694068035\n",
      "R^2: 0.9985601793782288\n",
      "Mean Residual Deviance: 0.027604948982225777\n",
      "Null degrees of freedom: 177123\n",
      "Residual degrees of freedom: 177122\n",
      "Null deviance: 3395930.015094881\n",
      "Residual deviance: 4889.498983527758\n",
      "AIC: -133170.55017033312\n"
     ]
    },
    {
     "data": {
      "text/plain": []
     },
     "execution_count": 47,
     "metadata": {},
     "output_type": "execute_result"
    }
   ],
   "source": [
    "perf = aml.leader.model_performance(test)\n",
    "perf"
   ]
  },
  {
   "cell_type": "code",
   "execution_count": 49,
   "metadata": {},
   "outputs": [
    {
     "name": "stdout",
     "output_type": "stream",
     "text": [
      "\n",
      "ModelMetricsRegressionGLM: stackedensemble\n",
      "** Reported on test data. **\n",
      "\n",
      "MSE: 0.009707997694179522\n",
      "RMSE: 0.09852917179282247\n",
      "MAE: 0.029588710141247324\n",
      "RMSLE: 0.008231492098123638\n",
      "R^2: 0.9994936496609653\n",
      "Mean Residual Deviance: 0.009707997694179522\n",
      "Null degrees of freedom: 177123\n",
      "Residual degrees of freedom: 177122\n",
      "Null deviance: 3395919.882377824\n",
      "Residual deviance: 1719.5193835838538\n",
      "AIC: -318273.1038061225\n"
     ]
    },
    {
     "data": {
      "text/plain": []
     },
     "execution_count": 49,
     "metadata": {},
     "output_type": "execute_result"
    }
   ],
   "source": [
    "perf = aml2.leader.model_performance(test)\n",
    "perf"
   ]
  },
  {
   "cell_type": "code",
   "execution_count": null,
   "metadata": {},
   "outputs": [],
   "source": []
  }
 ],
 "metadata": {
  "kernelspec": {
   "display_name": "Python 3",
   "language": "python",
   "name": "python3"
  },
  "language_info": {
   "codemirror_mode": {
    "name": "ipython",
    "version": 3
   },
   "file_extension": ".py",
   "mimetype": "text/x-python",
   "name": "python",
   "nbconvert_exporter": "python",
   "pygments_lexer": "ipython3",
   "version": "3.6.8"
  }
 },
 "nbformat": 4,
 "nbformat_minor": 2
}
